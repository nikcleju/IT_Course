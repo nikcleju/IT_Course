{
 "cells": [
  {
   "cell_type": "markdown",
   "metadata": {},
   "source": [
    "# Information Theory Lab 04: Source Coding,  Part I: Encoding\n",
    "\n",
    "## About\n",
    "\n",
    "This file is designed to be viewed and run online in a browser.\n",
    "\n",
    "This file is a Jupyter Notebook file usign `xeus-cling`, a Jupyter kernel for C++ based on the `cling` C++ interpreter and the `xeus` native implementation of the Jupyter protocol, xeus.\n",
    "\n",
    "- GitHub repository: https://github.com/jupyter-xeus/xeus-cling/\n",
    "- Online documentation: https://xeus-cling.readthedocs.io/ \n",
    "\n",
    "<!-- <img src=\"images/xeus-cling.png\" alt=\"xeus-cling logo\" style=\"width: 100px;\"/> -->"
   ]
  },
  {
   "cell_type": "markdown",
   "metadata": {},
   "source": [
    "## Usage\n",
    "\n",
    "To run a selected code cell:\n",
    "\n",
    "- Ctrl  + Enter = Run cell and remain at current cell\n",
    "- Shift + Enter = Run cell and advance to next cell\n",
    "\n",
    "<!--\n",
    "<div style=\"background: #efffed;\n",
    "            border: 1px solid grey;\n",
    "            margin: 8px 0 8px 0;\n",
    "            text-align: center;\n",
    "            padding: 8px; \">\n",
    "    <i class=\"fa-play fa\" \n",
    "       style=\"font-size: 40px;\n",
    "              line-height: 40px;\n",
    "              margin: 8px;\n",
    "              color: #444;\">\n",
    "    </i>\n",
    "    <div>\n",
    "    To run the selected code cell, hit <pre style=\"background: #efffed\">Shift + Enter</pre>\n",
    "    </div>\n",
    "</div>\n",
    "-->\n"
   ]
  },
  {
   "cell_type": "markdown",
   "metadata": {},
   "source": [
    "## 1. Objective\n",
    "\n",
    "Understand linear block codes by implementing a basic encoding application.\n"
   ]
  },
  {
   "cell_type": "markdown",
   "metadata": {},
   "source": [
    "## 2. Practical considerations, Part I: Working with bits\n",
    "\n",
    "### Read individual bits in a variable\n",
    "\n",
    "In C we can read and modify **individual bits** in a variable by applying a AND / OR / XOR mask.\n",
    "\n",
    "Consider a number $x$ with binary representation `11101101`. To read the value of bit number 3 (from right to left, LSB to MSB), we apply the following **binary mask** with a single 1 on the position of the bit we want to read:\n",
    "$$\n",
    "\\begin{align}\n",
    "1110b101&&  \\\\\n",
    "    \\&  \\\\\n",
    "00001000&&  \\\\\n",
    "    =   &&  \\\\\n",
    "0000b000&&    \n",
    "\\end{align}\n",
    "$$\n",
    "\n",
    "The result is 0 (e.g False) if that bit in $x$ has value 0, and is a non-zero value (e.g True) if that bit is 1.\n",
    "\n",
    "We can do this in C as follows:"
   ]
  },
  {
   "cell_type": "code",
   "execution_count": 1,
   "metadata": {},
   "outputs": [
    {
     "data": {
      "text/plain": [
       "1"
      ]
     },
     "execution_count": 1,
     "metadata": {},
     "output_type": "execute_result"
    }
   ],
   "source": [
    "int x = 78745;  \n",
    "int bit = ((x & (1U << 0)) != 0);  // Read bit from position 3 (right to left)\n",
    "\n",
    "// Display the result\n",
    "bit"
   ]
  },
  {
   "cell_type": "markdown",
   "metadata": {},
   "source": [
    "Explained: \n",
    "- x is the number\n",
    "- `1U << 3` means `00000001` (number 1, unsigned) shifted to the left with 3 positions, which produces the mask `00001000`\n",
    "- we have a bitwise AND (operator `&`) between `x` and this mask `00001000`\n",
    "- we obtain 0 or non-zero (but not necessarily 1); we compare it with 0 so that in the end we get either a False (0) or a True (1).\n",
    "\n",
    "To use it multiple times, we can encode this operation with a **macro** defined as:"
   ]
  },
  {
   "cell_type": "code",
   "execution_count": 2,
   "metadata": {},
   "outputs": [
    {
     "data": {
      "text/plain": [
       "1"
      ]
     },
     "execution_count": 2,
     "metadata": {},
     "output_type": "execute_result"
    }
   ],
   "source": [
    "#define READ_BIT(x,i)       (int)(((x) & (1U << (i))) != 0)\n",
    "\n",
    "// Let's use this macro:\n",
    "READ_BIT(78740, 8)          // read bit 3 from number 78745"
   ]
  },
  {
   "cell_type": "markdown",
   "metadata": {},
   "source": [
    "#### **Exercise**: convert number to binary\n",
    "Find the binary representation of number 212 (run READ_BIT 8 times and note down the results)."
   ]
  },
  {
   "cell_type": "code",
   "execution_count": 3,
   "metadata": {},
   "outputs": [
    {
     "data": {
      "text/plain": [
       "0"
      ]
     },
     "execution_count": 3,
     "metadata": {},
     "output_type": "execute_result"
    }
   ],
   "source": [
    "// TODO: run READ_BIT \n",
    "READ_BIT(212, 0)"
   ]
  },
  {
   "cell_type": "markdown",
   "metadata": {},
   "source": [
    "### Set individual bits in a variable (= make 1)\n",
    "\n",
    "We can change a certain bit in a variable to 1 (\"set the bit\") by using a bitwise OR with a similar mask:\n",
    "$$\n",
    "\\begin{align}\n",
    "bbbbbbbb&&  \\\\\n",
    "    |  \\\\\n",
    "00010000&&  \\\\\n",
    "    =   &&  \\\\\n",
    "bbb1bbbb&&    \n",
    "\\end{align}\n",
    "$$\n",
    "\n",
    "Every (bit OR 0) leaves that bit value unchanged, but when we make OR with 1 the result is 1.\n",
    "\n",
    "We can package this as a macro as well. The macro does not return anything, but it changes bit number $i$ from variable $x$ to 1."
   ]
  },
  {
   "cell_type": "code",
   "execution_count": 4,
   "metadata": {},
   "outputs": [
    {
     "data": {
      "text/plain": [
       "143"
      ]
     },
     "execution_count": 4,
     "metadata": {},
     "output_type": "execute_result"
    }
   ],
   "source": [
    "// Set to 1 the bit number i from value x\n",
    "#define SET_BIT(x,i)        ((x) = (x) | (1U << (i)))\n",
    "\n",
    "int x = 15;\n",
    "SET_BIT(x, 7)   // set to 1 the bit number 7. Will print the result"
   ]
  },
  {
   "cell_type": "markdown",
   "metadata": {},
   "source": [
    "#### **Exercise**: convert binary to base-10 number\n",
    "Find the value defined in binary as `10100000`. Start from `00000000` and use SET_BIT to set the corresponding bit positions."
   ]
  },
  {
   "cell_type": "code",
   "execution_count": 5,
   "metadata": {},
   "outputs": [
    {
     "data": {
      "text/plain": [
       "0"
      ]
     },
     "execution_count": 5,
     "metadata": {},
     "output_type": "execute_result"
    }
   ],
   "source": [
    "int x = 0;\n",
    "\n",
    "// TODO: set bits\n",
    "\n",
    "    \n",
    "// Display the value\n",
    "x"
   ]
  },
  {
   "cell_type": "markdown",
   "metadata": {},
   "source": [
    "### Clear individual bits in a variable (= make 0)\n",
    "\n",
    "We can change a certain bit in a variable to 0 (\"clear the bit\") by using a bitwise AND with an inverted mask:\n",
    "$$\n",
    "\\begin{align}\n",
    "bbbbbbbb&&  \\\\\n",
    "    \\&  \\\\\n",
    "11101111&&  \\\\\n",
    "    =   &&  \\\\\n",
    "bbb0bbbb&&    \n",
    "\\end{align}\n",
    "$$\n",
    "\n",
    "Every (bit AND 1) leaves that bit value unchanged, but when we make AND with 0 the result is 0.\n",
    "\n",
    "We can package this as a macro as well."
   ]
  },
  {
   "cell_type": "code",
   "execution_count": 6,
   "metadata": {},
   "outputs": [
    {
     "data": {
      "text/plain": [
       "112"
      ]
     },
     "execution_count": 6,
     "metadata": {},
     "output_type": "execute_result"
    }
   ],
   "source": [
    "// Clear (make 0) the bit number i from value x\n",
    "#define CLEAR_BIT(x,i)      ((x) = (x) & ~(1U << (i)))     // note the bineary negation operator ~ which inverts every bit of the mask\n",
    "\n",
    "int x = 240;\n",
    "CLEAR_BIT(x, 7)   // clear bit number 7. Will print the result"
   ]
  },
  {
   "cell_type": "markdown",
   "metadata": {},
   "source": [
    "### Writing individual bits in a variable (= set them to a given value)\n",
    "\n",
    "We can combine SET_BIT and CLEAR_BIT into a common macro WRITE_BIT which takes the desired value as an argument. The macro checks the desired value, and decides:\n",
    "- if we want a 1, it calls SET_BIT \n",
    "- if we want a 0, it calls CLEAR_BIT"
   ]
  },
  {
   "cell_type": "code",
   "execution_count": 7,
   "metadata": {},
   "outputs": [
    {
     "data": {
      "text/plain": [
       "214"
      ]
     },
     "execution_count": 7,
     "metadata": {},
     "output_type": "execute_result"
    }
   ],
   "source": [
    "#define WRITE_BIT(x,i,val)  ((val) ? SET_BIT((x),(i)) : CLEAR_BIT((x),(i)))\n",
    "\n",
    "int x = 150;\n",
    "WRITE_BIT(x, 5, 0);    // Make bit number 5 from x equal to 0\n",
    "WRITE_BIT(x, 6, 1);    // And then make bit number 6 from x equal to 1"
   ]
  },
  {
   "cell_type": "markdown",
   "metadata": {},
   "source": [
    "### Toggle individual bits in a variable (= make opposite)\n",
    "\n",
    "We can toggle a certain bit in a variable by using a bitwise XOR with a similar mask:\n",
    "$$\n",
    "\\begin{align}\n",
    "bbbbbbbb&&  \\\\\n",
    "    \\hat{}  \\\\\n",
    "00010000&&  \\\\\n",
    "    =   &&  \\\\\n",
    "bbb\\overline{b}bbbb&&    \n",
    "\\end{align}\n",
    "$$\n",
    "\n",
    "Every (bit XOR 0) leaves that bit value unchanged, but when we make XOR with 1 the result is the opposite value $\\overline{b}$ to the original $b$.\n",
    "\n",
    "We can package this as a macro as well."
   ]
  },
  {
   "cell_type": "code",
   "execution_count": 8,
   "metadata": {},
   "outputs": [
    {
     "data": {
      "text/plain": [
       "151"
      ]
     },
     "execution_count": 8,
     "metadata": {},
     "output_type": "execute_result"
    }
   ],
   "source": [
    "#define TOGGLE_BIT(x,i)     ((x) = (x) ^ (1U << (i)))\n",
    "\n",
    "int x = 150;\n",
    "TOGGLE_BIT(x, 0);    // Toggle bit number 0 from x"
   ]
  },
  {
   "cell_type": "markdown",
   "metadata": {},
   "source": [
    "### Working with bit vectors\n",
    "\n",
    "We'll often have to work with very long sequences of bits. We cannot use a single variable for holding all of them. Instead, we will usually define a **vector of bytes** (unsigned char). Let's define a vector with 1000 bytes, capable of holding 8000 individual bits."
   ]
  },
  {
   "cell_type": "code",
   "execution_count": 9,
   "metadata": {},
   "outputs": [],
   "source": [
    "unsigned char vector[1000];   // 1000 bytes = 8000 bits"
   ]
  },
  {
   "cell_type": "markdown",
   "metadata": {},
   "source": [
    "We need a quick way to read and write but values from such a vector. \n",
    "\n",
    "How do we read the bit on position 14 from this vector? We figure out on which element (byte) in the vector falls bit number 14, and which of the 8 bits of that element it is:\n",
    "- $14 \\; / \\; 8 = 1.75$, so we know position 2166 is somewhere in the second element of the vector, e.g. in `vector[1]`, i.e. `vector[position/8]`\n",
    "- $14 \\; \\% \\; 8 = 6$, so we know it's the 6th bit inside `vector[1]`\n",
    "\n",
    "Thus, in general, we can access bit number $i$ from the whole vector by accessing bit number `i%8` from element `vector[i/8]`. We can use READ_BIT and WRITE_BIT to read and write at this position.\n",
    "\n",
    "We define two macros VECREAD_BIT and VECWRITE_BIT to read and write bit values **in a whole vector**, as follows:"
   ]
  },
  {
   "cell_type": "code",
   "execution_count": 10,
   "metadata": {},
   "outputs": [],
   "source": [
    "// Read bit number i from vector v\n",
    "#define VECREAD_BIT(v,i)       (READ_BIT((v[(i)/8]),(i)%8))\n",
    "\n",
    "// Write value val in bit number i from vector v\n",
    "#define VECWRITE_BIT(v,i,val)  (WRITE_BIT((v[(i)/8]),((i)%8),val))"
   ]
  },
  {
   "cell_type": "markdown",
   "metadata": {},
   "source": [
    "#### **Exercise**: read / write bits in a vector\n",
    "\n",
    "Consider a vector with 20 bytes (160 bits). Make the first 100 bit values all equal to 1, and the remaining 60 bits all equal to 0"
   ]
  },
  {
   "cell_type": "code",
   "execution_count": 12,
   "metadata": {},
   "outputs": [
    {
     "name": "stdout",
     "output_type": "stream",
     "text": [
      "vec[11] = 255 \n",
      "vec[12] = 15 \n",
      "vec[13] = 0"
     ]
    }
   ],
   "source": [
    "unsigned char vec[20];\n",
    "\n",
    "// TODO: write here\n",
    "for (int i = 0; i < 100; i++)\n",
    "    VECWRITE_BIT(vec, i, 1);\n",
    "\n",
    "for (int i = 100; i < 160; i++)\n",
    "    VECWRITE_BIT(vec, i, 0);\n",
    "\n",
    "\n",
    "\n",
    "//-------------------------\n",
    "// Check: display vec[11], vec[12], vec[13]\n",
    "// Should be 255, 15 and 0\n",
    "printf(\"vec[11] = %d \\nvec[12] = %d \\nvec[13] = %d\", vec[11], vec[12], vec[13]);"
   ]
  },
  {
   "cell_type": "markdown",
   "metadata": {},
   "source": [
    "## 2. Practical considerations, Part II: Encoding\n",
    "\n",
    "Encoding a certain sequence of messages with a code means replacing each message $s_i$ with its codeword $c_i$.\n",
    "\n",
    "In this lab, we will replace **each character** with a specially crafted code. We will build this code in Lab 6.\n",
    "\n",
    "### Codewords\n",
    "\n",
    "In these labs, a codeword is defined using the following structure data type:\n",
    "```\n",
    "typedef struct \n",
    "{\n",
    "    int len;                /* length of code, in bits */\n",
    "    unsigned long code;     /* the first \"len\" bits are the codeword */\n",
    "} CODE32BIT;\n",
    "```"
   ]
  },
  {
   "cell_type": "markdown",
   "metadata": {},
   "source": [
    "All the codewords are available as a vector in file `codero.dat`. We can read such a vector with `fread()`, as follows"
   ]
  },
  {
   "cell_type": "code",
   "execution_count": 16,
   "metadata": {},
   "outputs": [
    {
     "data": {
      "text/plain": [
       "0"
      ]
     },
     "execution_count": 16,
     "metadata": {},
     "output_type": "execute_result"
    }
   ],
   "source": [
    "// Define the structure type\n",
    "typedef struct \n",
    "{\n",
    "    int len;               /* length of code, in bits */\n",
    "    unsigned int code;     /* the first \"len\" bits are the codeword */\n",
    "} CODE32BIT;\n",
    "\n",
    "// Define a vector of 256 codewords, one for each ASCII character\n",
    "CODE32BIT cb[256];\n",
    "\n",
    "// Open the file\n",
    "FILE* f = fopen(\"codero.dat\", \"rb\");\n",
    "\n",
    "// Read the vector from the file\n",
    "fread(&cb[0], sizeof(CODE32BIT), 256, f);   // Read from f, 256 elements, each of size \"sizeof(CODE32BIT)\" bytes, and place them in cb\n",
    "\n",
    "fclose(f);\n",
    "//sizeof(unsigned int)"
   ]
  },
  {
   "cell_type": "markdown",
   "metadata": {},
   "source": [
    "From the structure definition we see that each codeword element has two components:\n",
    "- `len`: length of the codeword (number of bits)\n",
    "- `code`: the actual bits of the codeword (only the first `len` bits are written)\n",
    "\n",
    "Let's check the codeword for letter `a`, which is `cb[97]` (ASCII code of 'a is 97).\n",
    "\n",
    "The codeword has length:"
   ]
  },
  {
   "cell_type": "code",
   "execution_count": 18,
   "metadata": {},
   "outputs": [
    {
     "data": {
      "text/plain": [
       "3"
      ]
     },
     "execution_count": 18,
     "metadata": {},
     "output_type": "execute_result"
    }
   ],
   "source": [
    "cb['a'].len    // instead of its code 97 we can use directly char 'a' "
   ]
  },
  {
   "cell_type": "markdown",
   "metadata": {},
   "source": [
    "The bits in `a`'s codeword  are:"
   ]
  },
  {
   "cell_type": "code",
   "execution_count": 19,
   "metadata": {},
   "outputs": [
    {
     "data": {
      "text/plain": [
       "0"
      ]
     },
     "execution_count": 19,
     "metadata": {},
     "output_type": "execute_result"
    }
   ],
   "source": [
    "READ_BIT(cb['a'].code, 0)  // First bit"
   ]
  },
  {
   "cell_type": "code",
   "execution_count": 20,
   "metadata": {},
   "outputs": [
    {
     "data": {
      "text/plain": [
       "0"
      ]
     },
     "execution_count": 20,
     "metadata": {},
     "output_type": "execute_result"
    }
   ],
   "source": [
    "READ_BIT(cb['a'].code, 1)  // Second bit"
   ]
  },
  {
   "cell_type": "code",
   "execution_count": 21,
   "metadata": {},
   "outputs": [
    {
     "data": {
      "text/plain": [
       "1"
      ]
     },
     "execution_count": 21,
     "metadata": {},
     "output_type": "execute_result"
    }
   ],
   "source": [
    "READ_BIT(cb['a'].code, 2) // Third bit"
   ]
  },
  {
   "cell_type": "markdown",
   "metadata": {},
   "source": [
    "#### **Exercise**: compare codeword lengths\n",
    "\n",
    "Check the codeword lengths for `a`, `b`, and `x`. Can you think of a reason why they would be different? "
   ]
  },
  {
   "cell_type": "code",
   "execution_count": 33,
   "metadata": {},
   "outputs": [
    {
     "data": {
      "text/plain": [
       "8"
      ]
     },
     "execution_count": 33,
     "metadata": {},
     "output_type": "execute_result"
    }
   ],
   "source": [
    "// TODO: write here\n",
    "cb['z'].len\n",
    "//READ_BIT(cb['b'].code, 1)"
   ]
  },
  {
   "cell_type": "markdown",
   "metadata": {},
   "source": [
    "#### **Exercise**: print one codeword\n",
    "\n",
    "Write all the bits of the codeword of `z` into the vector `vec`, one by one, using a for loop:"
   ]
  },
  {
   "cell_type": "code",
   "execution_count": 34,
   "metadata": {},
   "outputs": [
    {
     "data": {
      "text/plain": [
       "{ '}', '0x00', '0x00', '0x00', '0x00', '0x00', '0x00', '0x00', '0x00', '0x00', '0x00', '0x00', '0x00', '0x00', '0x00', '0x00', '0x00', '0x00', '0x00', '0x00' }"
      ]
     },
     "execution_count": 34,
     "metadata": {},
     "output_type": "execute_result"
    }
   ],
   "source": [
    "unsigned char vec[20];  // vector of 20 bytes, has space for 160 bits\n",
    "\n",
    "// TODO: write below\n",
    "for (int i=0; i < cb['z'].len; i++)\n",
    "{\n",
    "    int bit = READ_BIT(cb['z'].code, i);  // Read every bit from codeword of 'z'\n",
    "    VECWRITE_BIT(vec, i, bit);            //  and save it into vector 'vec'\n",
    "}   \n",
    "    \n",
    "// Display vector\n",
    "vec"
   ]
  },
  {
   "cell_type": "markdown",
   "metadata": {},
   "source": [
    "### Encoding procedure"
   ]
  },
  {
   "cell_type": "markdown",
   "metadata": {},
   "source": [
    "For encoding a sequence of letters, we simply write the codeword of every letter into an output vector.\n",
    "\n",
    "#### **Exercise**: encode a sentence\n",
    "\n",
    "Encode the sentence *\"Humpty-Dumpty sat on a wall\"*, and write the binary output sequence in the vector `vec`.\n",
    "\n",
    "Questions: \n",
    "  - how many bits did we use? \n",
    "  - how many bits would be used if we encode the letters with ASCII code (8 bits / letter)? \n",
    "  - what is the compression ration achieved with this code? "
   ]
  },
  {
   "cell_type": "code",
   "execution_count": null,
   "metadata": {},
   "outputs": [],
   "source": [
    "const char* s = \"Humpty-Dumpty sat on a wall\";          // the input sequence\n",
    "unsigned char vec[1000];                                // output vector for holding the bits\n",
    "\n",
    "// TODO: write here\n",
    "\n"
   ]
  },
  {
   "cell_type": "markdown",
   "metadata": {},
   "source": [
    "#### **Exercise**: encode a file\n",
    "\n",
    "Read a text file and encode every byte (character), writing the binary output sequence in the vector `vec`. Reuse the code from the previous labs in order to open the file and read every byte.\n"
   ]
  },
  {
   "cell_type": "code",
   "execution_count": null,
   "metadata": {},
   "outputs": [],
   "source": [
    "const char* filename = \"textro.txt\";    // the text file to encode\n",
    "unsigned char vec[1000000];                 // one milion bytes, holds up to 1MB of data\n",
    "\n",
    "// TODO: write here\n"
   ]
  },
  {
   "cell_type": "markdown",
   "metadata": {},
   "source": [
    "### Writing the encoded bit sequence to an output file\n",
    "\n",
    "Finally, once we have all the bits in the vector `vec`, let's write the data into an output file.\n",
    "\n",
    "From the encoding above, we need **the total number of bits written**. Let's call this `len`. We save the data as follows:\n",
    "1. Open the output file with `fopen()`, for writing in binary mode\n",
    "2. Write the integer `len`, using `fwrite()`\n",
    "3. Write the vector `vec` using `fwrite()`, but only the bytes actually written (number of bytes to write = `ceil (len/8)`)\n",
    "4. Close the file"
   ]
  },
  {
   "cell_type": "code",
   "execution_count": null,
   "metadata": {},
   "outputs": [],
   "source": [
    "//int len = 5;\n",
    "\n",
    "FILE* f = fopen(\"textroencoded.enc\", \"wb\");                      // open file\n",
    "fwrite(&len, sizeof(len), 1, f);                           // write len\n",
    "fwrite(vec, sizeof(unsigned char), ceil(len/8), f);        // write the encoded bitstring, only the actual written bytes ceil(len/8)\n",
    "fclose(f);                                                 // close file                 "
   ]
  },
  {
   "cell_type": "markdown",
   "metadata": {},
   "source": [
    "## 3. Final Exercises\n",
    "\n",
    "\n",
    "1. Put everything into a dedicated program `encode.c`, to encode every byte from a given data file.\n",
    "\n",
    "   The program shall be called as follows: \n",
    "\n",
    "   `encode.exe codero.dat input.txt output.txt`\n",
    "    \n",
    "   The arguments are:\n",
    "      - `code.dat`: a file containing the code to be used (known as the \"codebook\" file)\n",
    "      - `input.txt`: the file to encode\n",
    "      - `output.txt`: the output (encoded) file\n",
    "   \n",
    "   \n",
    "   The codebook file contains a vector of 256 elements of the following structure type:\n",
    "   \n",
    "   \n",
    "   \n",
    "        typedef struct \n",
    "        {\n",
    "            int len;                /* length of code, in bits */\n",
    "            unsigned long code;     /* the first \"len\" bits are the codeword */\n",
    "        } CODE32BIT;\n",
    "   \n",
    "   \n",
    "   The program will follow the following steps:\n",
    "   \n",
    "    - Allocate an array named `out` of `unsigned char` of max size 10MB (i.e. 10000000 bytes);\n",
    "    - Open and read the full vector from the codebook file;\n",
    "    - Then, open the input file and read every byte in a loop. For each byte do the following:\n",
    "    \n",
    "        - Write the codeword for the byte, bit by bit, in the `out` vector. Use the `VECWRITE_BIT()` macro\n",
    "        \n",
    "        - Keep track of the number of bits written, in order to continue writing from where the previous codeword stopped.\n",
    "        \n",
    "        \n",
    "    - Write the array `out` to the output file, as follows:\n",
    "    \n",
    "        - Open the output file for writing\n",
    "        \n",
    "        - Write first the total number of bits\n",
    "        - Write afterwards the vector `out`, but only the number of bytes actually used for coding\n",
    "        - *Note: when decoding the file, we will read back the data in the same order*.\n",
    "\n",
    "2. Encode the file `textro.txt` with the provided codebook `codero.dat`. Check the size of the output file and compute the compression ratio.\n",
    "\n",
    "3. Repeat 2. for `texten.txt` with codebook `codeen.dat`.\n",
    "\n",
    "4. Encode a file with the codebook from the other language. Check the size of the output file and compute the compression ratio. Compare\n",
    "with the one using the same language codebook. Which case is better?"
   ]
  },
  {
   "cell_type": "markdown",
   "metadata": {},
   "source": [
    "## 4. Final questions\n",
    "\n",
    "1. TBD"
   ]
  }
 ],
 "metadata": {
  "kernelspec": {
   "display_name": "C++14",
   "language": "C++14",
   "name": "xcpp14"
  },
  "language_info": {
   "codemirror_mode": "text/x-c++src",
   "file_extension": ".cpp",
   "mimetype": "text/x-c++src",
   "name": "c++",
   "version": "14"
  }
 },
 "nbformat": 4,
 "nbformat_minor": 4
}
